{
 "cells": [
  {
   "cell_type": "code",
   "execution_count": 3,
   "metadata": {
    "scrolled": false
   },
   "outputs": [
    {
     "name": "stdout",
     "output_type": "stream",
     "text": [
      "Analyzing PR 1/74\n",
      "Analyzing PR 2/74\n",
      "Analyzing PR 3/74\n",
      "Analyzing PR 4/74\n",
      "Analyzing PR 5/74\n",
      "Analyzing PR 6/74\n",
      "Analyzing PR 7/74\n",
      "Analyzing PR 8/74\n",
      "Analyzing PR 9/74\n",
      "Analyzing PR 10/74\n",
      "Analyzing PR 11/74\n",
      "Analyzing PR 12/74\n",
      "Analyzing PR 13/74\n",
      "Analyzing PR 14/74\n",
      "Analyzing PR 15/74\n",
      "Analyzing PR 16/74\n",
      "Analyzing PR 17/74\n",
      "Analyzing PR 18/74\n",
      "Analyzing PR 19/74\n",
      "Analyzing PR 20/74\n",
      "Analyzing PR 21/74\n",
      "Analyzing PR 22/74\n",
      "Analyzing PR 23/74\n",
      "Analyzing PR 24/74\n",
      "Analyzing PR 25/74\n",
      "Analyzing PR 26/74\n",
      "Analyzing PR 27/74\n",
      "Analyzing PR 28/74\n",
      "Analyzing PR 29/74\n",
      "Analyzing PR 30/74\n",
      "Analyzing PR 31/74\n",
      "Analyzing PR 32/74\n",
      "Analyzing PR 33/74\n",
      "Analyzing PR 34/74\n",
      "Analyzing PR 35/74\n",
      "Analyzing PR 36/74\n",
      "Analyzing PR 37/74\n",
      "Analyzing PR 38/74\n",
      "Analyzing PR 39/74\n",
      "Analyzing PR 40/74\n",
      "Analyzing PR 41/74\n",
      "Analyzing PR 42/74\n",
      "Analyzing PR 43/74\n",
      "Analyzing PR 44/74\n",
      "Analyzing PR 45/74\n",
      "Analyzing PR 46/74\n",
      "Analyzing PR 47/74\n",
      "Analyzing PR 48/74\n",
      "Analyzing PR 49/74\n",
      "Analyzing PR 50/74\n",
      "Analyzing PR 51/74\n",
      "Analyzing PR 52/74\n",
      "Analyzing PR 53/74\n",
      "Analyzing PR 54/74\n",
      "Analyzing PR 55/74\n",
      "Analyzing PR 56/74\n",
      "Analyzing PR 57/74\n",
      "Analyzing PR 58/74\n",
      "Analyzing PR 59/74\n",
      "Analyzing PR 60/74\n",
      "Analyzing PR 61/74\n",
      "Analyzing PR 62/74\n",
      "Analyzing PR 63/74\n",
      "Analyzing PR 64/74\n",
      "Analyzing PR 65/74\n",
      "Analyzing PR 66/74\n",
      "Analyzing PR 67/74\n",
      "Analyzing PR 68/74\n",
      "Analyzing PR 69/74\n",
      "Analyzing PR 70/74\n",
      "Analyzing PR 71/74\n",
      "Analyzing PR 72/74\n",
      "Analyzing PR 73/74\n",
      "Analyzing PR 74/74\n"
     ]
    }
   ],
   "source": [
    "from django.conf import settings\n",
    "from apps.patterns.models import OcurrenceReport\n",
    "import apps.patterns.github as gh\n",
    "import requests\n",
    "import re\n",
    "\n",
    "FROM_DATE=\"2020-12-29\"\n",
    "TO_DATE=\"2020-12-31\"\n",
    "APP_NAME=\"orders\"\n",
    "\n",
    "\n",
    "pattern_import_from_models_module = fr\"\\+\\s+from\\s+apps\\.{APP_NAME}\\.models\"\n",
    "pattern_import_models_module = fr\"\\+\\s+from\\s+apps\\.{APP_NAME}\\s+import\\s+(?:(?!from).)*?models\"\n",
    "pattern_file_name_from_diff = r\"---\\s+a\\/(apps[\\/\\w*]+\\.py)\"\n",
    "\n",
    "pattern=fr\"\\+[\\s\\t]*(?:from\\s+apps\\.{APP_NAME}\\.models|from\\+apps\\.{APP_NAME}\\s+import\\s+(?:\\w+,\\s?)+?\\s?models,?)\"\n",
    "github_repo = gh.get_repo()\n",
    "pr_query = f\"repo:{settings.BACKEND_REPO_SLUG} is:pr merged:{FROM_DATE}..{TO_DATE}\"\n",
    "prs = gh.search_issues_with_query(query=pr_query)\n",
    "headers = {'accept': 'application/vnd.github.v3.diff', 'authorization': f\"Token {settings.GITHUB_TOKEN}\"}\n",
    "results = []\n",
    "current_pr_index = 1\n",
    "total_prs = len(prs)\n",
    "for pr in prs:\n",
    "    print(f\"Analyzing PR {current_pr_index}/{total_prs}\")\n",
    "    response = requests.get(pr.pull_request.raw_data[\"url\"], headers=headers)\n",
    "    parts = response.text.split(\"diff --git\")\n",
    "    for part in parts:\n",
    "        match_from_models = re.search(pattern_import_from_models_module, part)\n",
    "        match_models = re.search(pattern_import_models_module, part)\n",
    "        if match_from_models or match_models:\n",
    "            filename = re.search(pattern_file_name_from_diff, part).group(1)\n",
    "            if filename.startswith(f\"apps/{APP_NAME}\"):\n",
    "                print(\"Skipped domain import.\")\n",
    "                continue\n",
    "            else:\n",
    "                payload = dict(pr_name=pr.title, pr_number=pr.number, filename=filename, code=part, user=pr.user.login)\n",
    "                results.append(payload)\n",
    "    current_pr_index += 1\n",
    "\n",
    "for result in results:\n",
    "    print(f\"({result['pr_number']}) {result['pr_name']} -> {result['user']}\")\n",
    "    print(result[\"filename\"])\n",
    "        \n",
    "    "
   ]
  },
  {
   "cell_type": "code",
   "execution_count": 37,
   "metadata": {},
   "outputs": [
    {
     "data": {
      "text/plain": [
       "0"
      ]
     },
     "execution_count": 37,
     "metadata": {},
     "output_type": "execute_result"
    }
   ],
   "source": [
    "len(results)"
   ]
  },
  {
   "cell_type": "code",
   "execution_count": null,
   "metadata": {},
   "outputs": [],
   "source": []
  }
 ],
 "metadata": {
  "kernelspec": {
   "display_name": "Django Shell-Plus",
   "language": "python",
   "name": "django_extensions"
  },
  "language_info": {
   "codemirror_mode": {
    "name": "ipython",
    "version": 3
   },
   "file_extension": ".py",
   "mimetype": "text/x-python",
   "name": "python",
   "nbconvert_exporter": "python",
   "pygments_lexer": "ipython3",
   "version": "3.6.8"
  }
 },
 "nbformat": 4,
 "nbformat_minor": 4
}
