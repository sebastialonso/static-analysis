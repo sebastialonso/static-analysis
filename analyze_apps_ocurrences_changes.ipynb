{
 "cells": [
  {
   "cell_type": "code",
   "execution_count": 1,
   "metadata": {
    "scrolled": false
   },
   "outputs": [],
   "source": [
    "from apps.patterns.models import OcurrenceReport\n",
    "import numpy as np\n",
    "\n",
    "LAST_COMMITS = 15\n",
    "STUDY_APP = \"orders\"\n",
    "\n",
    "reports = OcurrenceReport.objects.filter(app_name=STUDY_APP, last_of_day=True).order_by('-commited_epoch')[:LAST_COMMITS]\n",
    "\n",
    "global_raw_data = {}\n",
    "for rep in reports:\n",
    "    report_acc = {}\n",
    "    # Store the amount of hits per app per report\n",
    "    for hit in rep.ocurrences:\n",
    "        parts = hit.split(\"/\")\n",
    "        app_name = parts[1]\n",
    "        if app_name in report_acc:\n",
    "            element = report_acc[app_name]\n",
    "            element += 1\n",
    "            report_acc[app_name] = element\n",
    "        else:\n",
    "            report_acc[app_name] = 0\n",
    "    \n",
    "    # Order this shit by app name\n",
    "    items = report_acc.items()\n",
    "    report_acc = sorted(items)\n",
    "    \n",
    "    # Collect app count per report into a global datastore\n",
    "    for app_name, app_count in report_acc:\n",
    "        if app_name in global_raw_data:\n",
    "            elements = global_raw_data[app_name]\n",
    "            elements.append(app_count)\n",
    "            global_raw_data[app_name] = elements\n",
    "        else:\n",
    "            global_raw_data[app_name] = [app_count]"
   ]
  },
  {
   "cell_type": "code",
   "execution_count": 2,
   "metadata": {
    "scrolled": false
   },
   "outputs": [
    {
     "data": {
      "text/plain": [
       "{'api': array([30, 30, 30, 30, 30, 30, 30, 30, 30, 30, 30, 30, 30, 30, 30]),\n",
       " 'assigner': array([5, 5, 5, 5, 5, 5, 5, 5, 5, 5, 5, 5, 5, 5, 5]),\n",
       " 'billing': array([4, 4, 4, 4, 4, 4, 4, 4, 4, 4, 4, 4, 4, 4, 4]),\n",
       " 'bizdev': array([0, 0, 0, 0, 0, 0, 0, 0, 0, 0, 0, 0, 0, 0, 0]),\n",
       " 'bookkeeping': array([11, 11, 11, 11, 11, 11, 11, 11, 11, 11, 11, 11, 11, 11, 11]),\n",
       " 'brandcenter': array([3, 3, 3, 3, 3, 3, 3, 3, 3, 3, 3, 3, 3, 3, 3]),\n",
       " 'calls': array([24, 24, 24, 24, 24, 24, 24, 24, 24, 24, 24, 24, 24, 24, 24]),\n",
       " 'capacity': array([9, 9, 9, 9, 9, 9, 9, 9, 9, 9, 9, 9, 9, 9, 9]),\n",
       " 'capacity_automator': array([0, 0, 0, 0, 0, 0, 0, 0, 0, 0, 0, 0, 0, 0, 0]),\n",
       " 'catalog': array([15, 15, 15, 15, 15, 15, 15, 15, 15, 15, 15, 15, 15, 15, 15]),\n",
       " 'catalog_workflow': array([2, 2, 2, 2, 2, 2, 2, 2, 2, 2, 2, 2, 2, 2, 2]),\n",
       " 'checkout': array([23, 23, 23, 23, 23, 23, 23, 23, 23, 23, 22, 22, 22, 22, 22]),\n",
       " 'city_management': array([31, 31, 31, 31, 31, 31, 31, 31, 31, 31, 31, 31, 31, 31, 31]),\n",
       " 'cornershop_payment_authorizers': array([0, 0, 0, 0, 0, 0, 0, 0, 0, 0, 0, 0, 0, 0, 0]),\n",
       " 'crm': array([4, 4, 4, 4, 4, 4, 4, 4, 4, 4, 4, 4, 4, 4, 4]),\n",
       " 'cs_stripe': array([3, 3, 3, 3, 3, 3, 3, 3, 3, 3, 3, 3, 3, 3, 3]),\n",
       " 'customer_incentives': array([3, 3, 3, 3, 3, 3, 3, 3, 3, 3, 3, 3, 3, 3, 3]),\n",
       " 'customer_support': array([9, 9, 9, 9, 9, 9, 9, 9, 9, 9, 9, 9, 9, 9, 9]),\n",
       " 'dispatcher': array([16, 16, 16, 16, 16, 16, 16, 16, 16, 16, 16, 16, 16, 16, 16]),\n",
       " 'estimator': array([4, 4, 4, 4, 4, 4, 4, 4, 4, 4, 4, 4, 4, 4, 4]),\n",
       " 'facturamx': array([4, 4, 4, 4, 4, 4, 4, 4, 4, 4, 4, 4, 4, 4, 4]),\n",
       " 'finance': array([0, 0, 0, 0, 0, 0, 0, 0, 0, 0, 0, 0, 0, 0, 0]),\n",
       " 'fulfillment': array([14, 14, 14, 14, 14, 14, 14, 14, 14, 14, 14, 14, 14, 14, 14]),\n",
       " 'geo': array([0, 0, 0, 0, 0, 0, 0, 0, 0, 0, 0, 0, 0, 0, 0]),\n",
       " 'loyalty': array([0, 0, 0, 0, 0, 0, 0, 0, 0, 0, 0, 0, 0, 0, 0]),\n",
       " 'messaging': array([5, 5, 5, 5, 5, 5, 5, 5, 5, 5, 5, 5, 5, 5, 5]),\n",
       " 'multipicking': array([12, 12, 12, 12, 12, 12, 12, 12, 13, 13, 12, 12, 12, 12, 12]),\n",
       " 'ops_tasks_management': array([0, 0, 0, 0, 0, 0, 0, 0, 0, 0, 0, 0, 0, 0, 0]),\n",
       " 'opstasks': array([38, 38, 38, 38, 38, 38, 38, 38, 38, 38, 38, 38, 38, 38, 38]),\n",
       " 'opstasks_api': array([0, 0, 0, 0, 0, 0, 0, 0, 0, 0, 0, 0, 0, 0, 0]),\n",
       " 'opstasks_workflow': array([1, 1, 1, 1, 1, 1, 1, 1, 1, 1, 1, 1, 1, 1, 1]),\n",
       " 'orders_archive': array([15, 15, 15, 15, 15, 15, 15, 15, 15, 15, 15, 15, 15, 15, 15]),\n",
       " 'orders_archive_viewer': array([10, 10, 10, 10, 10, 10, 10, 10, 10,  9,  9,  9,  9,  9,  9]),\n",
       " 'orders_failover_system': array([0, 0, 0, 0, 0, 0, 0, 0, 0, 0, 0, 0, 0, 0, 0]),\n",
       " 'partnerships': array([0, 0, 0, 0, 0, 0, 0, 0, 0, 0, 0]),\n",
       " 'payments': array([24, 24, 25, 25, 25, 25, 25, 25, 25, 25, 25, 25, 25, 25, 25]),\n",
       " 'paypal': array([0, 0, 0, 0, 0, 0, 0, 0, 0, 0, 0, 0, 0, 0, 0]),\n",
       " 'payu': array([0, 0, 0, 0, 0, 0, 0, 0, 0, 0, 0, 0, 0, 0, 0]),\n",
       " 'post_checkout': array([0, 0, 0, 0, 0, 0, 0, 0, 0, 0, 0, 0, 0, 0, 0]),\n",
       " 'promotions': array([24, 24, 24, 24, 24, 24, 24, 24, 24, 24, 24, 24, 24, 24, 24]),\n",
       " 'promotions_engine': array([0, 0, 0, 0, 0, 0, 0, 0, 0, 0, 0, 0, 0, 0, 0]),\n",
       " 'receipts': array([5, 5, 5, 5, 5, 5, 5, 5, 5, 5, 5, 5, 5, 5, 5]),\n",
       " 'reengagement': array([0, 0, 0, 0, 0, 0, 0, 0, 0, 0, 0, 0, 0, 0, 0]),\n",
       " 'reports': array([5, 5, 5, 5, 5, 5, 5, 5, 5, 5, 5, 5, 5, 5, 5]),\n",
       " 'risk': array([14, 14, 14, 14, 14, 14, 14, 14, 14, 14, 14, 14, 14, 14, 14]),\n",
       " 'sampling': array([3, 3, 3, 3, 3, 3, 3, 3, 3, 3, 3, 3, 3, 3, 3]),\n",
       " 'shopper_api': array([54, 54, 53, 53, 53, 53, 53, 53, 53, 53, 52, 52, 52, 52, 52]),\n",
       " 'shopper_cards_notifications': array([4, 4, 4, 4, 4, 4, 4, 4, 4, 4, 4, 4, 4, 4, 4]),\n",
       " 'shopper_commissions': array([6, 6, 6, 6, 6, 6, 6, 6, 6, 6, 6, 6, 6, 6, 6]),\n",
       " 'shopper_onboarding': array([0, 0, 0, 0, 0, 0, 0, 0, 0, 0, 0, 0, 0, 0, 0]),\n",
       " 'shopper_quality': array([3, 3, 3, 3, 3, 3, 3, 3, 3, 3, 3, 3, 3, 3, 3]),\n",
       " 'shopper_statistics': array([0, 0, 0, 0, 0, 0, 0, 0, 0, 0, 0, 0, 0, 0, 0]),\n",
       " 'shoppercenter': array([9, 9, 5, 5, 5, 5, 5, 5, 4, 4, 4, 4, 4, 4, 4]),\n",
       " 'shoppers': array([59, 59, 59, 59, 59, 59, 59, 59, 59, 59, 59, 59, 59, 59, 59]),\n",
       " 'shoppertasks': array([0, 0, 0, 0, 0, 0, 0, 0, 0, 3, 3, 3, 3, 3, 3]),\n",
       " 'som_quality': array([0, 0, 0, 0, 0, 0, 0, 0, 0, 0, 0, 0, 0, 0, 0]),\n",
       " 'srm': array([3, 3, 3, 3, 3, 3, 3, 3, 3, 3, 3, 3, 3, 3, 3]),\n",
       " 'stores': array([14, 14, 14, 14, 14, 14, 14, 14, 14, 14, 14, 14, 14, 14, 14]),\n",
       " 'stores_bookkeeping': array([8, 8, 8, 8, 8, 8, 8, 8, 8, 8, 8, 8, 8, 8, 8]),\n",
       " 'stores_cashiers': array([0, 0, 0, 0, 0, 0, 0, 0, 0, 0, 0, 0, 0, 0, 0]),\n",
       " 'stores_integration_services': array([1, 1, 1, 1, 1, 1, 1, 1, 1, 1, 1, 1, 1, 1, 1]),\n",
       " 'subscriptions': array([0, 0, 0, 0, 0, 0, 0, 0, 0, 0, 0, 0, 0, 0, 0]),\n",
       " 'support': array([1, 1, 1, 3, 3, 3, 3, 3, 3, 3, 3, 3, 3, 3, 3]),\n",
       " 'uber': array([0, 0, 0, 0, 0, 0, 0, 0, 0, 0, 0, 0, 0, 0, 0]),\n",
       " 'uber_wallet': array([2, 2, 2, 2, 2, 2, 2, 2, 2, 2, 2, 2, 2, 2, 2]),\n",
       " 'user_profile': array([1, 1, 1, 1, 1, 1, 1, 1, 1, 1, 1, 1, 1, 1, 1]),\n",
       " 'user_store': array([0, 0, 0, 0, 0, 0, 0, 0, 0, 0]),\n",
       " 'users': array([16, 16, 16, 16, 16, 16, 16, 16, 16, 16, 16, 16, 16, 16, 16]),\n",
       " 'utils': array([1, 1, 0, 0, 0, 0, 0, 0, 0, 0, 0, 0, 0, 0, 0]),\n",
       " 'shopper_booklogs': array([3, 3])}"
      ]
     },
     "execution_count": 2,
     "metadata": {},
     "output_type": "execute_result"
    }
   ],
   "source": [
    "import numpy as np\n",
    "\n",
    "data = { app_name: np.array(global_raw_data[app_name]) for app_name in global_raw_data}\n",
    "data\n",
    "#{ app_name: [np.average(data[app_name]), np.std(data[app_name])] for app_name in data }"
   ]
  },
  {
   "cell_type": "markdown",
   "metadata": {},
   "source": [
    "## Generate ocurrences\n",
    "\n",
    "* Generate a report:\n",
    "  * every COMMIT_CHUNK commits (doing it for every commit is quite expensive) COMMIT_CHUNK=50\n",
    "  * for POINTS_TO_ANALYZE times (POINTS_TO_ANALYZE=10)"
   ]
  },
  {
   "cell_type": "code",
   "execution_count": 5,
   "metadata": {},
   "outputs": [
    {
     "name": "stdout",
     "output_type": "stream",
     "text": [
      "Commit 43b9cdd7fd070dbaf029a655ebce96acd3d589df at 2020-11-03T17:21:19-03:00\n",
      "Commit b6a2cbe6395326228535ab3127b62fddda4e29a6 at 2020-11-03T02:36:55-03:00\n",
      "Commit 1bd9680e7ccbb640965ae0788491e0be49f668bb at 2020-11-02T14:48:22-03:00\n",
      "Commit f2d2ab311c87839428bc79b1ce943190646af847 at 2020-11-02T12:22:57-03:00\n",
      "Commit a2355340641dc356e0a4c757c9d7c335af3b01ab at 2020-10-30T20:58:48-03:00\n",
      "Commit 6e7758abd22e4b348fddb2b3d445563c6300cbb2 at 2020-10-30T15:34:19-03:00\n",
      "Commit 051e2e6619ed433f3effc6d943e979ab6815c115 at 2020-10-30T12:13:05-03:00\n",
      "Commit 1d2e83d6419ed0e778a1657bcc4acf70a43acc3d at 2020-10-29T16:45:37-03:00\n",
      "Commit e0af596d4c45e93597f4e7f00d5b3f6b743c84b2 at 2020-10-29T16:56:29-03:00\n",
      "Commit 0e8f9d30673f788b949d911fb56f231e758c5d7e at 2020-10-29T10:42:02-03:00\n",
      "Commit b5c4399bdf3ab79254aa932e02c8fa6dbff0d985 at 2020-10-28T19:02:59-03:00\n",
      "Commit 49b384c110afecad10ca0818e674f8a6003a6cf0 at 2020-10-28T17:53:02-03:00\n",
      "Commit 5a8d911eacaf5c59aa71baed48beb9272acd42bf at 2020-10-28T00:04:05-03:00\n",
      "Commit c7d3ab0ee779ae5dfe04cd0ef9cac4190a23729b at 2020-10-27T15:41:23-03:00\n",
      "Commit 9c8b3c6572e2526fcfe04edeb06379e28b815089 at 2020-10-27T11:22:37-03:00\n",
      "Commit 2bd63fc6dcc939d9b3ee8d1be1bdc0ddc63cd80f at 2020-10-26T18:14:31-03:00\n",
      "Commit 81b6928360ed9d90a8ff695604c59083fde349d5 at 2020-10-26T14:16:18-03:00\n",
      "Commit 49650013e9436f0d2350d5cdf7a269eeb6636920 at 2020-10-26T10:36:10-03:00\n",
      "Commit bfd9b8ae5b1e6cfaad9c1eeb8fb5ed31d1558771 at 2020-10-23T17:05:31-03:00\n",
      "Commit b3329e3b55ef456879c031fe84024d6492b235f2 at 2020-10-23T14:23:15-03:00\n",
      "Commit a3b48e1545a12ceca857b5b1f2ce71f23a7f13f8 at 2020-10-23T12:09:10-03:00\n",
      "Commit e6cf9e1ed6fa5e38efff80c5df8427afd683c278 at 2020-10-22T17:11:53-03:00\n",
      "Commit e6127699d76c251134fc5abd3a7f1cdf3bfc4542 at 2020-10-22T13:09:45-03:00\n",
      "Commit a903fa37d9a8bbbb0e92f5725c24f54b7386082e at 2020-10-22T12:15:22-03:00\n",
      "Commit a2e1206fb3f58941dc56707bd7b7328777f96821 at 2020-10-21T17:21:06-03:00\n",
      "Analyzing commit 43b9cdd7fd070dbaf029a655ebce96acd3d589df\n",
      "Analyzing commit b6a2cbe6395326228535ab3127b62fddda4e29a6\n",
      "Analyzing commit 1bd9680e7ccbb640965ae0788491e0be49f668bb\n",
      "Analyzing commit f2d2ab311c87839428bc79b1ce943190646af847\n",
      "Analyzing commit a2355340641dc356e0a4c757c9d7c335af3b01ab\n",
      "Analyzing commit 6e7758abd22e4b348fddb2b3d445563c6300cbb2\n",
      "Analyzing commit 051e2e6619ed433f3effc6d943e979ab6815c115\n",
      "Analyzing commit 1d2e83d6419ed0e778a1657bcc4acf70a43acc3d\n",
      "Analyzing commit e0af596d4c45e93597f4e7f00d5b3f6b743c84b2\n",
      "Analyzing commit 0e8f9d30673f788b949d911fb56f231e758c5d7e\n",
      "Analyzing commit b5c4399bdf3ab79254aa932e02c8fa6dbff0d985\n",
      "Analyzing commit 49b384c110afecad10ca0818e674f8a6003a6cf0\n",
      "Analyzing commit 5a8d911eacaf5c59aa71baed48beb9272acd42bf\n",
      "Analyzing commit c7d3ab0ee779ae5dfe04cd0ef9cac4190a23729b\n",
      "Analyzing commit 9c8b3c6572e2526fcfe04edeb06379e28b815089\n",
      "Analyzing commit 2bd63fc6dcc939d9b3ee8d1be1bdc0ddc63cd80f\n",
      "Analyzing commit 81b6928360ed9d90a8ff695604c59083fde349d5\n",
      "Analyzing commit 49650013e9436f0d2350d5cdf7a269eeb6636920\n",
      "Analyzing commit bfd9b8ae5b1e6cfaad9c1eeb8fb5ed31d1558771\n",
      "Analyzing commit b3329e3b55ef456879c031fe84024d6492b235f2\n",
      "Analyzing commit a3b48e1545a12ceca857b5b1f2ce71f23a7f13f8\n",
      "Analyzing commit e6cf9e1ed6fa5e38efff80c5df8427afd683c278\n",
      "Analyzing commit e6127699d76c251134fc5abd3a7f1cdf3bfc4542\n",
      "Analyzing commit a903fa37d9a8bbbb0e92f5725c24f54b7386082e\n",
      "Analyzing commit a2e1206fb3f58941dc56707bd7b7328777f96821\n"
     ]
    }
   ],
   "source": [
    "COMMIT_CHUNK=50\n",
    "POINT_TO_ANALYZE = 25\n",
    "study_apps=dict(\n",
    "    #catalog=dict(ignore_paths=[\"apps/catalog\", \"apps/promotions\", \"apps/stores\"]),\n",
    "    orders=dict(ignore_paths=[\"apps/orders\"])\n",
    ")\n",
    "\n",
    "from apps.patterns.git import repo_at\n",
    "from apps.patterns.models import OcurrenceReport\n",
    "from apps.patterns.analyzer import analyze_repo_with_pattern\n",
    "from apps.patterns.services import report_ocurrence\n",
    "from apps.utils import to_arrow\n",
    "\n",
    "\n",
    "commits_to_analyze = []\n",
    "\n",
    "with repo_at(commit=None, force_delete=False, always_pull=True) as repo:\n",
    "    points = POINT_TO_ANALYZE\n",
    "    chunks_skipped = 0\n",
    "    while points > 0:\n",
    "        commit = list(repo.iter_commits(\"devel\", max_count=COMMIT_CHUNK, skip=chunks_skipped))[0]\n",
    "        commits_to_analyze.append(commit)\n",
    "        print(f\"Commit {commit.hexsha} at {to_arrow(commit.committed_datetime)}\")\n",
    "        points -= 1\n",
    "        chunks_skipped += COMMIT_CHUNK\n",
    "    \n",
    "\n",
    "for app_name in study_apps:\n",
    "    app_config = study_apps[app_name]\n",
    "    for commit in commits_to_analyze:\n",
    "        report_ocurrence(study_app=app_name, commit=commit.hexsha, verbose=True, **app_config)"
   ]
  },
  {
   "cell_type": "code",
   "execution_count": 59,
   "metadata": {},
   "outputs": [
    {
     "data": {
      "text/plain": [
       "227"
      ]
     },
     "execution_count": 59,
     "metadata": {},
     "output_type": "execute_result"
    }
   ],
   "source": [
    "from apps.patterns.models import OcurrenceReport\n",
    "OcurrenceReport.objects.count()"
   ]
  },
  {
   "cell_type": "code",
   "execution_count": null,
   "metadata": {},
   "outputs": [],
   "source": []
  }
 ],
 "metadata": {
  "kernelspec": {
   "display_name": "Django Shell-Plus",
   "language": "python",
   "name": "django_extensions"
  },
  "language_info": {
   "codemirror_mode": {
    "name": "ipython",
    "version": 3
   },
   "file_extension": ".py",
   "mimetype": "text/x-python",
   "name": "python",
   "nbconvert_exporter": "python",
   "pygments_lexer": "ipython3",
   "version": "3.6.8"
  }
 },
 "nbformat": 4,
 "nbformat_minor": 4
}
