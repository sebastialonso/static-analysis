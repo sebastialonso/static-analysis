{
 "cells": [
  {
   "cell_type": "markdown",
   "metadata": {},
   "source": [
    "## Usage\n",
    "\n",
    "Using `report_ocurrences` will analyze the most advanced point of the study repo and record the ocurrences of the models pattern for each of the apps inside `study_apps` list.\n",
    "\n",
    "Reports are unique under the (commit, app_name) tuple"
   ]
  },
  {
   "cell_type": "code",
   "execution_count": 15,
   "metadata": {},
   "outputs": [
    {
     "data": {
      "text/plain": [
       "(59, {'patterns.OcurrenceReport': 59})"
      ]
     },
     "execution_count": 15,
     "metadata": {},
     "output_type": "execute_result"
    }
   ],
   "source": []
  },
  {
   "cell_type": "code",
   "execution_count": 2,
   "metadata": {
    "scrolled": false
   },
   "outputs": [],
   "source": [
    "import arrow\n",
    "from datetime import datetime\n",
    "from typing import List\n",
    "\n",
    "from apps.patterns.git import repo_at\n",
    "from apps.patterns.models import OcurrenceReport\n",
    "from apps.patterns.analyzer import analyze_repo_with_pattern\n",
    "\n",
    "def to_arrow(in_datetime: datetime, tz: str = \"America/Santiago\") -> arrow.Arrow:\n",
    "    return arrow.Arrow(\n",
    "        year=in_datetime.year,\n",
    "        month=in_datetime.month,\n",
    "        day=in_datetime.day,\n",
    "        hour=in_datetime.hour,\n",
    "        minute=in_datetime.minute,\n",
    "        second=in_datetime.second,\n",
    "        tzinfo=tz\n",
    "    )\n",
    "\n",
    "def report_current_ocurrences(study_app: str, ignore_paths: List[str] = []):\n",
    "    with repo_at(commit=None, force_delete=False, always_pull=True) as repo:\n",
    "        pattern = f\"apps.{study_app}.models\"\n",
    "        hits = analyze_repo_with_pattern(pattern=pattern, ignore_paths=ignore_paths)\n",
    "        \n",
    "        commit = repo.head.commit\n",
    "        payload = dict(\n",
    "            app_name=study_app,\n",
    "            ocurrences=hits,\n",
    "            commit=commit.hexsha,\n",
    "            commited_epoch=to_arrow(commit.committed_datetime).timestamp,\n",
    "        )\n",
    "\n",
    "        try:\n",
    "            report = OcurrenceReport.objects.filter(commit=payload.get(\"commit\"), app_name=payload.get(\"app_name\")).get()\n",
    "        except OcurrenceReport.DoesNotExist:\n",
    "            report = OcurrenceReport.objects.create(**payload)\n",
    "\n",
    "        return report\n",
    "\n",
    "study_apps=dict(\n",
    "    #catalog=dict(ignore_paths=[\"apps/catalog\", \"apps/promotions\", \"apps/stores\"]),\n",
    "    orders=dict(ignore_paths=[\"apps/orders\"])\n",
    ")\n",
    "\n",
    "for app_name in study_apps:\n",
    "    app_config = study_apps[app_name]\n",
    "    report_current_ocurrences(study_app=app_name, **app_config)\n",
    "    "
   ]
  },
  {
   "cell_type": "code",
   "execution_count": 3,
   "metadata": {},
   "outputs": [
    {
     "name": "stdout",
     "output_type": "stream",
     "text": [
      "655\n"
     ]
    }
   ],
   "source": [
    "from apps.patterns.models import OcurrenceReport\n",
    "rep = OcurrenceReport.objects.filter(app_name=\"orders\").order_by('commited_epoch').last()\n",
    "\n",
    "print(rep.total)"
   ]
  },
  {
   "cell_type": "code",
   "execution_count": null,
   "metadata": {},
   "outputs": [],
   "source": []
  }
 ],
 "metadata": {
  "kernelspec": {
   "display_name": "Django Shell-Plus",
   "language": "python",
   "name": "django_extensions"
  },
  "language_info": {
   "codemirror_mode": {
    "name": "ipython",
    "version": 3
   },
   "file_extension": ".py",
   "mimetype": "text/x-python",
   "name": "python",
   "nbconvert_exporter": "python",
   "pygments_lexer": "ipython3",
   "version": "3.6.8"
  }
 },
 "nbformat": 4,
 "nbformat_minor": 4
}
