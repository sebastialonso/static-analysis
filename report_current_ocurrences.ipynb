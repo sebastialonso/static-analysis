{
 "cells": [
  {
   "cell_type": "markdown",
   "metadata": {},
   "source": [
    "## Usage\n",
    "\n",
    "Using `report_ocurrences` will analyze the most advanced point of the study repo and record the ocurrences of the models pattern for each of the apps inside `study_apps` list.\n",
    "\n",
    "Reports are unique under the (commit, app_name) tuple"
   ]
  },
  {
   "cell_type": "code",
   "execution_count": 4,
   "metadata": {
    "scrolled": false
   },
   "outputs": [
    {
     "name": "stdout",
     "output_type": "stream",
     "text": [
      "Analyzing commit 36735b9620400cd052c42d95ad8895c7ce6f4e4a\n",
      "171\n",
      "Analyzing commit 36735b9620400cd052c42d95ad8895c7ce6f4e4a\n",
      "91\n",
      "Analyzing commit 36735b9620400cd052c42d95ad8895c7ce6f4e4a\n",
      "30\n",
      "Analyzing commit 36735b9620400cd052c42d95ad8895c7ce6f4e4a\n",
      "617\n"
     ]
    }
   ],
   "source": [
    "from apps.patterns.services import report_ocurrence\n",
    "\n",
    "study_apps=dict(\n",
    "    catalog=dict(ignore_paths=[\"apps/catalog\", \"apps/promotions\", \"apps/stores\"]),\n",
    "    promotions=dict(ignore_paths=[\"apps/catalog\", \"apps/promotions\", \"apps/stores\"]),\n",
    "    stores=dict(ignore_paths=[\"apps/catalog\", \"apps/promotions\", \"apps/stores\"]),\n",
    "    orders=dict(ignore_paths=[\"apps/orders\"])\n",
    ")\n",
    "\n",
    "\n",
    "last_report = None\n",
    "for app_name in study_apps:\n",
    "    app_config = study_apps[app_name]\n",
    "    last_report = report_ocurrence(study_app=app_name, verbose=True, **app_config)\n",
    "\n",
    "    print(last_report.total)"
   ]
  },
  {
   "cell_type": "code",
   "execution_count": 3,
   "metadata": {},
   "outputs": [
    {
     "data": {
      "text/plain": [
       "304"
      ]
     },
     "execution_count": 3,
     "metadata": {},
     "output_type": "execute_result"
    }
   ],
   "source": [
    "182+91+31"
   ]
  },
  {
   "cell_type": "code",
   "execution_count": null,
   "metadata": {},
   "outputs": [],
   "source": []
  }
 ],
 "metadata": {
  "kernelspec": {
   "display_name": "Django Shell-Plus",
   "language": "python",
   "name": "django_extensions"
  },
  "language_info": {
   "codemirror_mode": {
    "name": "ipython",
    "version": 3
   },
   "file_extension": ".py",
   "mimetype": "text/x-python",
   "name": "python",
   "nbconvert_exporter": "python",
   "pygments_lexer": "ipython3",
   "version": "3.6.8"
  }
 },
 "nbformat": 4,
 "nbformat_minor": 4
}
